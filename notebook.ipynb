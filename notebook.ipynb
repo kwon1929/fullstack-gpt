{
 "cells": [
  {
   "cell_type": "code",
   "execution_count": 25,
   "metadata": {},
   "outputs": [],
   "source": [
    "from langchain.chat_models import ChatOpenAI\n",
    "from langchain.prompts import ChatPromptTemplate\n",
    "from langchain.schema.runnable import RunnableLambda, RunnableMap\n",
    "\n",
    "chat = ChatOpenAI(temperature=0.1)\n",
    "\n",
    "prouduct_prompt = ChatPromptTemplate.from_messages([\n",
    "  (\"system\", \"you are a product manager. you will help to build a ai product.if you are not sure about something say 'i am not sure about that'\"),\n",
    "  (\"human\", \"{user_goal_prompt}\"),\n",
    "])\n",
    "prouduct_chain = prouduct_prompt | chat"
   ]
  },
  {
   "cell_type": "code",
   "execution_count": 26,
   "metadata": {},
   "outputs": [],
   "source": [
    "design_prompt = ChatPromptTemplate.from_messages([\n",
    "    (\"system\", \"You are a product designer. You will help design the AI product. If you're not sure about something, say 'I'm not sure about that'.\"),\n",
    "    (\"human\", \"{product}\"),\n",
    "])\n",
    "design_chain = design_prompt | chat"
   ]
  },
  {
   "cell_type": "code",
   "execution_count": 27,
   "metadata": {},
   "outputs": [],
   "source": [
    "devolper_prompt = ChatPromptTemplate.from_messages([\n",
    "  (\"system\",\"You are a developer. You will write code for the AI product based on product and design. If you're not sure about something, say 'I'm not sure about that'.\"),\n",
    "  (\"human\",\"Product Info:\\n{product}\\n\\nDesign Info:\\n{design}\"),\n",
    "]\n",
    ")\n",
    "devolper_chain = devolper_prompt| chat"
   ]
  },
  {
   "cell_type": "code",
   "execution_count": 28,
   "metadata": {},
   "outputs": [],
   "source": [
    "def full_chain(user_goal_prompt: str):\n",
    "  product = prouduct_chain.invoke({\"user_goal_prompt\": user_goal_prompt}).content\n",
    "  design = design_chain.invoke({\"product\": product}).content\n",
    "  code = devolper_chain.invoke({\"product\": product, \"design\": design}).content\n",
    "  return {\n",
    "      \"product\": product,\n",
    "      \"design\": design,\n",
    "      \"code\": code\n",
    "  }"
   ]
  },
  {
   "cell_type": "code",
   "execution_count": 29,
   "metadata": {},
   "outputs": [
    {
     "name": "stdout",
     "output_type": "stream",
     "text": [
      "🔷 Product:\n",
      " To build a decision-making AI agent for this purpose, we can follow these steps:\n",
      "\n",
      "1. Data Collection: Gather all relevant internal policy documents that outline the criteria for fee discounts. This data will be used to train the AI agent.\n",
      "\n",
      "2. Data Preprocessing: Clean and preprocess the data to make it suitable for training the AI model. This may involve tasks such as text normalization, tokenization, and removing irrelevant information.\n",
      "\n",
      "3. Model Selection: Choose a suitable machine learning model for text classification tasks. Models like Natural Language Processing (NLP) models such as BERT or LSTM can be effective for this purpose.\n",
      "\n",
      "4. Training: Train the selected model on the preprocessed data to learn the patterns and criteria for determining fee discounts eligibility.\n",
      "\n",
      "5. Integration: Develop an interface where the sales team can input the merchant name and case details. The AI agent will then process this input and provide a yes/no answer along with an explanation based on the internal policy documents.\n",
      "\n",
      "6. Testing and Evaluation: Test the AI agent with sample cases to ensure it is providing accurate and reliable answers. Continuously evaluate and fine-tune the model based on feedback from the sales team.\n",
      "\n",
      "7. Deployment: Once the AI agent is performing satisfactorily, deploy it for use by the sales team. Provide necessary training and support to ensure smooth adoption.\n",
      "\n",
      "By following these steps, we can build an AI agent that automates the decision-making process for fee discounts eligibility, reducing manual effort and improving efficiency for the sales team.\n",
      "\n",
      "🎨 Design:\n",
      " Your outlined steps provide a solid framework for building a decision-making AI agent for fee discounts eligibility. Here are some additional considerations and questions to think about during the design process:\n",
      "\n",
      "1. **Ethical and Fairness Considerations**: How will you ensure that the AI agent's decisions are fair and unbiased? Will you implement measures to prevent discrimination based on sensitive attributes like race, gender, or age?\n",
      "\n",
      "2. **Interpretability**: How will you make the AI agent's decisions interpretable to the sales team? Will it provide explanations in a user-friendly format to help users understand why a particular decision was made?\n",
      "\n",
      "3. **Scalability**: How will the AI agent handle a growing volume of cases and data over time? Will the system be able to scale effectively as the business expands?\n",
      "\n",
      "4. **Feedback Loop**: How will you incorporate feedback from the sales team into the AI model to improve its performance over time? Will you have a mechanism for continuous learning and adaptation?\n",
      "\n",
      "5. **Data Security**: How will you ensure the security and privacy of the data used by the AI agent? What measures will be in place to protect sensitive information from unauthorized access?\n",
      "\n",
      "6. **User Experience**: How can you design the interface to be intuitive and user-friendly for the sales team? Will there be features like autocomplete suggestions or real-time feedback to enhance the user experience?\n",
      "\n",
      "7. **Regulatory Compliance**: Are there any regulatory requirements or industry standards that need to be considered when designing the AI product? How will you ensure compliance with relevant laws and regulations?\n",
      "\n",
      "By addressing these considerations and questions, you can create a well-rounded design for the AI product that not only meets the functional requirements but also considers ethical, usability, and security aspects.\n",
      "\n",
      "💻 Code:\n",
      " I will start by writing code for the data collection and preprocessing steps. Here is a basic outline of the code structure:\n",
      "\n",
      "```python\n",
      "# Step 1: Data Collection\n",
      "def gather_policy_documents():\n",
      "    # Code to gather relevant internal policy documents\n",
      "    policy_documents = []\n",
      "    # Add code to collect policy documents\n",
      "    return policy_documents\n",
      "\n",
      "# Step 2: Data Preprocessing\n",
      "def clean_and_preprocess_data(policy_documents):\n",
      "    cleaned_data = []\n",
      "    for doc in policy_documents:\n",
      "        # Code for text normalization, tokenization, and removing irrelevant information\n",
      "        cleaned_doc = preprocess_text(doc)\n",
      "        cleaned_data.append(cleaned_doc)\n",
      "    return cleaned_data\n",
      "\n",
      "def preprocess_text(text):\n",
      "    # Add code for text preprocessing (e.g., lowercasing, removing special characters)\n",
      "    return text\n",
      "\n",
      "# Main function to execute data collection and preprocessing\n",
      "def main():\n",
      "    policy_documents = gather_policy_documents()\n",
      "    cleaned_data = clean_and_preprocess_data(policy_documents)\n",
      "    print(\"Data preprocessing completed.\")\n",
      "\n",
      "if __name__ == \"__main__\":\n",
      "    main()\n",
      "```\n",
      "\n",
      "This code structure covers the initial steps of data collection and preprocessing. Next, I will work on model selection, training, integration, testing, and deployment steps. Let me know if you have any specific preferences or requirements for the code implementation.\n"
     ]
    }
   ],
   "source": [
    "result = full_chain(\"I want to build a decision-making AI agent that helps our sales team determine whether a merchant is eligible for a fee discount.The agent should read our internal policy documents and, when the sales team types in a merchant name and case, the agent should return a yes/no answer with explanation.The goal is to avoid manual back-and-forth between sales and operations.\")\n",
    "print(\"🔷 Product:\\n\", result[\"product\"])\n",
    "print(\"\\n🎨 Design:\\n\", result[\"design\"])\n",
    "print(\"\\n💻 Code:\\n\", result[\"code\"])"
   ]
  }
 ],
 "metadata": {
  "kernelspec": {
   "display_name": "env",
   "language": "python",
   "name": "python3"
  },
  "language_info": {
   "codemirror_mode": {
    "name": "ipython",
    "version": 3
   },
   "file_extension": ".py",
   "mimetype": "text/x-python",
   "name": "python",
   "nbconvert_exporter": "python",
   "pygments_lexer": "ipython3",
   "version": "3.13.0"
  }
 },
 "nbformat": 4,
 "nbformat_minor": 2
}
